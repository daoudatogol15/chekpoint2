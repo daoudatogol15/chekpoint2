{
 "cells": [
  {
   "cell_type": "code",
   "execution_count": 1,
   "id": "b14f1b37",
   "metadata": {},
   "outputs": [
    {
     "name": "stdout",
     "output_type": "stream",
     "text": [
      "tapez votre prenom: Daouda\n",
      "tapez votre nom: Togola\n",
      "Bonjour Togola Daouda\n"
     ]
    }
   ],
   "source": [
    "# chekpoint2\n",
    "prenom=input(\"tapez votre prenom: \")\n",
    "nom=input(\"tapez votre nom: \")\n",
    "print(\"Bonjour\", nom, prenom)"
   ]
  },
  {
   "cell_type": "code",
   "execution_count": null,
   "id": "11c4171d",
   "metadata": {},
   "outputs": [],
   "source": []
  }
 ],
 "metadata": {
  "kernelspec": {
   "display_name": "Python 3 (ipykernel)",
   "language": "python",
   "name": "python3"
  },
  "language_info": {
   "codemirror_mode": {
    "name": "ipython",
    "version": 3
   },
   "file_extension": ".py",
   "mimetype": "text/x-python",
   "name": "python",
   "nbconvert_exporter": "python",
   "pygments_lexer": "ipython3",
   "version": "3.9.13"
  }
 },
 "nbformat": 4,
 "nbformat_minor": 5
}
